{
 "cells": [
  {
   "attachments": {},
   "cell_type": "markdown",
   "metadata": {},
   "source": [
    "# Pre-Process Data\n",
    "## Unprocessed CSV files located in the './nounbanks' directory."
   ]
  },
  {
   "cell_type": "code",
   "execution_count": 23,
   "metadata": {},
   "outputs": [],
   "source": [
    "import csv\n",
    "import pandas as pd"
   ]
  },
  {
   "cell_type": "code",
   "execution_count": 24,
   "metadata": {},
   "outputs": [],
   "source": [
    "def preprocess_one_col_csv(filename, col_name):\n",
    "    '''Read a newline delimited CSV with one column and return a pandas dataframe.'''\n",
    "    with open(filename, 'r') as f:\n",
    "        reader = csv.reader(f, delimiter='\\n') #read animals.csv with '\\n' as the delimiter\n",
    "        noun_list = list(reader)\n",
    "    noun_list = [x[0] for x in noun_list] # make a list of the animals\n",
    "    lowercase_noun_list = [x.lower() for x in noun_list] # lowercase\n",
    "    lowercase_noun_list = list(dict.fromkeys(lowercase_noun_list)) # remove duplicates\n",
    "    lowercase_noun_list = [x for x in lowercase_noun_list if x != ''] # remove empty strings\n",
    "    lowercase_noun_list.sort() # sort alphabetically\n",
    "    #convert to pandas dataframe\n",
    "    df = pd.DataFrame(lowercase_noun_list, columns=[col_name])\n",
    "    return df\n",
    "\n",
    "def preprocess_states_csv(filename):\n",
    "    '''Format USA_State.csv and return a pandas dataframe.'''\n",
    "    #read the csv file with pandas, the column names are 'state' and 'area (sq. mi)'\n",
    "    df = pd.read_csv(filename, names=['state', 'area (sq. mi)','pop_2014'])\n",
    "    df = df.iloc[1:].reset_index(drop=True) # remove the first row, which is the column names and reset the index\n",
    "    return df\n",
    "\n",
    "def preprocess_countries_csv(filename):\n",
    "    '''Format CPUNTRIES.csv and return a pandas dataframe.'''\n",
    "    #read the csv file with pandas, the column names are 'country' and 'area (sq. km)'\n",
    "    df = pd.read_csv(filename, names=['country', 'area (sq. km)','pop_2021'])\n",
    "    df = df.iloc[1:].reset_index(drop=True) # remove the first row, which is the column names and reset the index\n",
    "    return df\n",
    "\n",
    "def preprocess_elements_csv(filename):\n",
    "    '''Format ELEMENTS.csv and return a pandas dataframe.'''\n",
    "    #read the csv file with pandas, the column names are 'element' and 'atomic number'\n",
    "    df = pd.read_csv(filename)\n",
    "    # df = df.iloc[1:].reset_index(drop=True) # remove the first row, which is the column names and reset the index\n",
    "    return df"
   ]
  },
  {
   "attachments": {},
   "cell_type": "markdown",
   "metadata": {},
   "source": [
    "### Driver"
   ]
  },
  {
   "cell_type": "code",
   "execution_count": 25,
   "metadata": {},
   "outputs": [
    {
     "name": "stdout",
     "output_type": "stream",
     "text": [
      "Stored 'all_usa_states' (DataFrame)\n",
      "Stored 'all_world_countries' (DataFrame)\n",
      "Stored 'all_elements' (DataFrame)\n",
      "Stored 'many_animals' (DataFrame)\n",
      "Stored 'many_greek_gods' (DataFrame)\n",
      "Stored 'many_roman_gods' (DataFrame)\n",
      "Stored 'many_cosmetic_items' (DataFrame)\n",
      "Stored 'many_office_supplies' (DataFrame)\n"
     ]
    }
   ],
   "source": [
    "# 'all_*' implies an exhaustive set, 'many_*' implies a long list list (growable)\n",
    "\n",
    "all_usa_states = preprocess_states_csv('nounbanks/USA_State.csv') \n",
    "all_world_countries = preprocess_countries_csv('nounbanks/COUNTRIES.csv')\n",
    "all_elements = preprocess_elements_csv('nounbanks/ELEMENTS.csv')\n",
    "many_animals = preprocess_one_col_csv('nounbanks/ANIMALS.csv', 'many_animals')\n",
    "many_greek_gods = preprocess_one_col_csv('nounbanks/GREEKGODS.csv', 'many_greek_gods')\n",
    "many_roman_gods = preprocess_one_col_csv('nounbanks/ROMANGODS.csv', 'many_roman_gods')\n",
    "many_cosmetic_items = preprocess_one_col_csv('nounbanks/COSMETICITEMS.csv', 'many_cosmetic_items')\n",
    "many_office_supplies = preprocess_one_col_csv('nounbanks/OFFICESUPPLIES.csv', 'many_office_supplies')\n",
    "\n",
    "\n",
    "# use '%store' magic method to save variables to the notebook's namespace\n",
    "\n",
    "%store all_usa_states\n",
    "%store all_world_countries\n",
    "%store all_elements\n",
    "%store many_animals\n",
    "%store many_greek_gods\n",
    "%store many_roman_gods\n",
    "%store many_cosmetic_items\n",
    "%store many_office_supplies\n",
    "\n"
   ]
  },
  {
   "attachments": {},
   "cell_type": "markdown",
   "metadata": {},
   "source": [
    "### Display Processed Dataframes"
   ]
  },
  {
   "cell_type": "code",
   "execution_count": 26,
   "metadata": {},
   "outputs": [],
   "source": [
    "from IPython.display import display\n",
    "# # display noun banks\n"
   ]
  },
  {
   "cell_type": "code",
   "execution_count": null,
   "metadata": {},
   "outputs": [],
   "source": []
  }
 ],
 "metadata": {
  "kernelspec": {
   "display_name": ".virtualenvs",
   "language": "python",
   "name": "python3"
  },
  "language_info": {
   "codemirror_mode": {
    "name": "ipython",
    "version": 3
   },
   "file_extension": ".py",
   "mimetype": "text/x-python",
   "name": "python",
   "nbconvert_exporter": "python",
   "pygments_lexer": "ipython3",
   "version": "3.10.10"
  },
  "orig_nbformat": 4,
  "vscode": {
   "interpreter": {
    "hash": "49923a79da37503b7585011c1d4fbf98104ab872348be5d7a60d9e572fa91926"
   }
  }
 },
 "nbformat": 4,
 "nbformat_minor": 2
}
