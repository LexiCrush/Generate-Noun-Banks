{
 "cells": [
  {
   "attachments": {},
   "cell_type": "markdown",
   "metadata": {},
   "source": [
    "# Confirm that noun banks are accessible by ipykernal.\n",
    "#### - Shared Pandas dfs are transported as pickle files.\n",
    "#### - Read using the %store -r '...' 'magic method'"
   ]
  },
  {
   "cell_type": "code",
   "execution_count": 81,
   "metadata": {},
   "outputs": [
    {
     "name": "stdout",
     "output_type": "stream",
     "text": [
      "no stored variable or alias USA_State\n"
     ]
    }
   ],
   "source": [
    "# get noun banks\n",
    "%store -r Animal\n",
    "%store -r USA_State\n",
    "%store -r all_countries\n",
    "%store -r all_elements\n",
    "%store -r greek_gods\n",
    "%store -r roman_gods\n",
    "%store -r cosmetic_items\n",
    "%store -r office_supplies\n",
    "\n"
   ]
  },
  {
   "attachments": {},
   "cell_type": "markdown",
   "metadata": {},
   "source": [
    "\n",
    "# Creating an engine will store a file \"NounBankSQlite.db\" at SQlite-Databases/NounBankSQlite.db\n",
    "#### "
   ]
  },
  {
   "cell_type": "code",
   "execution_count": 76,
   "metadata": {},
   "outputs": [
    {
     "ename": "NameError",
     "evalue": "name 'US_State' is not defined",
     "output_type": "error",
     "traceback": [
      "\u001b[0;31m---------------------------------------------------------------------------\u001b[0m",
      "\u001b[0;31mNameError\u001b[0m                                 Traceback (most recent call last)",
      "Cell \u001b[0;32mIn[76], line 20\u001b[0m\n\u001b[1;32m     17\u001b[0m     cosmetic_items\u001b[39m.\u001b[39mto_sql(\u001b[39m'\u001b[39m\u001b[39mcosmetic_items\u001b[39m\u001b[39m'\u001b[39m, engine, if_exists\u001b[39m=\u001b[39m\u001b[39m'\u001b[39m\u001b[39mreplace\u001b[39m\u001b[39m'\u001b[39m)\n\u001b[1;32m     18\u001b[0m     office_supplies\u001b[39m.\u001b[39mto_sql(\u001b[39m'\u001b[39m\u001b[39moffice_supplies\u001b[39m\u001b[39m'\u001b[39m, engine, if_exists\u001b[39m=\u001b[39m\u001b[39m'\u001b[39m\u001b[39mreplace\u001b[39m\u001b[39m'\u001b[39m)\n\u001b[0;32m---> 20\u001b[0m post_to_sqlite()\n",
      "Cell \u001b[0;32mIn[76], line 12\u001b[0m, in \u001b[0;36mpost_to_sqlite\u001b[0;34m()\u001b[0m\n\u001b[1;32m     10\u001b[0m \u001b[39m# populate database with noun banks\u001b[39;00m\n\u001b[1;32m     11\u001b[0m Animal\u001b[39m.\u001b[39mto_sql(\u001b[39m'\u001b[39m\u001b[39mAnimal\u001b[39m\u001b[39m'\u001b[39m, engine, if_exists\u001b[39m=\u001b[39m\u001b[39m'\u001b[39m\u001b[39mreplace\u001b[39m\u001b[39m'\u001b[39m)\n\u001b[0;32m---> 12\u001b[0m US_State\u001b[39m.\u001b[39mto_sql(\u001b[39m'\u001b[39m\u001b[39mUS_State\u001b[39m\u001b[39m'\u001b[39m, engine, if_exists\u001b[39m=\u001b[39m\u001b[39m'\u001b[39m\u001b[39mreplace\u001b[39m\u001b[39m'\u001b[39m)\n\u001b[1;32m     13\u001b[0m all_countries\u001b[39m.\u001b[39mto_sql(\u001b[39m'\u001b[39m\u001b[39mall_countries\u001b[39m\u001b[39m'\u001b[39m, engine, if_exists\u001b[39m=\u001b[39m\u001b[39m'\u001b[39m\u001b[39mreplace\u001b[39m\u001b[39m'\u001b[39m)\n\u001b[1;32m     14\u001b[0m all_elements\u001b[39m.\u001b[39mto_sql(\u001b[39m'\u001b[39m\u001b[39mall_elements\u001b[39m\u001b[39m'\u001b[39m, engine, if_exists\u001b[39m=\u001b[39m\u001b[39m'\u001b[39m\u001b[39mreplace\u001b[39m\u001b[39m'\u001b[39m)\n",
      "\u001b[0;31mNameError\u001b[0m: name 'US_State' is not defined"
     ]
    }
   ],
   "source": [
    "import pandas as pd\n",
    "from pandas.io import sql\n",
    "from sqlalchemy import create_engine\n",
    "\n",
    "DATABASE_LOCATION = \"sqlite:///NounBankSQlite.db\"\n",
    "\n",
    "def post_to_sqlite():\n",
    "    # establish database connection\n",
    "    engine = create_engine(DATABASE_LOCATION)\n",
    "    # populate database with noun banks\n",
    "    Animal.to_sql('Animal', engine, if_exists='replace')\n",
    "    USA_State.to_sql('USA_State', engine, if_exists='replace')\n",
    "    all_countries.to_sql('all_countries', engine, if_exists='replace')\n",
    "    all_elements.to_sql('all_elements', engine, if_exists='replace')\n",
    "    greek_gods.to_sql('greek_gods', engine, if_exists='replace')\n",
    "    roman_gods.to_sql('roman_gods', engine, if_exists='replace')\n",
    "    cosmetic_items.to_sql('cosmetic_items', engine, if_exists='replace')\n",
    "    office_supplies.to_sql('office_supplies', engine, if_exists='replace')\n",
    "\n",
    "post_to_sqlite()\n",
    "\n"
   ]
  },
  {
   "attachments": {},
   "cell_type": "markdown",
   "metadata": {},
   "source": [
    "## Confirm that future updates to the Noun Bank do not raise any assertion errors"
   ]
  },
  {
   "cell_type": "code",
   "execution_count": null,
   "metadata": {},
   "outputs": [
    {
     "name": "stderr",
     "output_type": "stream",
     "text": [
      "test_connecting_to_sqlite (__main__.TestPostToSqlite) ... ok\n",
      "test_element_with_largest_atomic_number (__main__.TestPostToSqlite) ... ok\n",
      "test_longest_len_greek_god (__main__.TestPostToSqlite) ... ok\n",
      "test_states_start_with_new (__main__.TestPostToSqlite) ... ok\n",
      "\n",
      "----------------------------------------------------------------------\n",
      "Ran 4 tests in 0.017s\n",
      "\n",
      "OK\n"
     ]
    }
   ],
   "source": [
    "import unittest as ut\n",
    "\n",
    "class TestPostToSqlite(ut.TestCase):\n",
    "    def __init__(self, *args, **kwargs):\n",
    "        self.engine = create_engine(DATABASE_LOCATION) # create an engine to connect to the database for testing\n",
    "        super(TestPostToSqlite, self).__init__(*args, **kwargs) # call the parent class's constructor\n",
    "\n",
    "    def test_connecting_to_sqlite(self):\n",
    "        self.assertEqual(self.engine.name, 'sqlite') # check that the engine is connected to a sqlite database\n",
    "\n",
    "    def test_states_start_with_new(self):\n",
    "        df = pd.read_sql('SELECT state FROM USA_State WHERE state LIKE \"New%\"', self.engine) # select all states that start with \"New\"\n",
    "        self.assertEqual(df.values.tolist(), [['New Hampshire'], ['New Jersey'], ['New Mexico'], ['New York']]) # check that the correct states are returned\n",
    "        \n",
    "    def test_longest_len_greek_god(self):\n",
    "        df = pd.read_sql('SELECT MAX(LENGTH(greek_god)), greek_god FROM greek_gods', self.engine)\n",
    "        self.assertEqual(df['greek_god'][0], 'hephaestus' ) # check that the greek god with the longest name is Hephaestus\n",
    "        self.assertEqual(df['MAX(LENGTH(greek_god))'][0], 10) # check that the length of the longest name is 11\n",
    "\n",
    "    def test_element_with_largest_atomic_number(self):\n",
    "        df = pd.read_sql('SELECT Element, AtomicNumber FROM all_elements WHERE AtomicNumber = (SELECT MAX(AtomicNumber) FROM all_elements)', self.engine)\n",
    "        self.assertEqual(df['Element'][0], 'Oganesson') # check that the element with the largest atomic number is Oganesson\n",
    "        self.assertEqual(df['AtomicNumber'][0], 118) # check that the atomic number of Oganesson is 118\n",
    "\n",
    "\n",
    "#run the tests\n",
    "\n",
    "if __name__ == '__main__':\n",
    "    ut.main(argv=[''], verbosity=3, exit=False)"
   ]
  },
  {
   "cell_type": "code",
   "execution_count": null,
   "metadata": {},
   "outputs": [
    {
     "name": "stdout",
     "output_type": "stream",
     "text": [
      "Name a usa_states That Starts With The Letter  That Ends With The Letter\n"
     ]
    }
   ],
   "source": [
    "engine = create_engine(DATABASE_LOCATION)\n",
    "\n",
    "import numpy as np\n",
    "\n",
    "\n",
    "#use sql to view all available tables\n",
    "available_tables = pd.read_sql('SELECT name FROM sqlite_master WHERE type=\"table\"', engine)\n",
    "\n",
    "#choose a random table, never choosing the same table twice in a row\n",
    "def choose_table():\n",
    "    global current_table\n",
    "    current_table = available_tables.sample(1).values[0][0]\n",
    "    return current_table\n",
    "\n",
    "FUCK = choose_table()\n",
    "\n",
    "class Question:\n",
    "    def __init__(self) -> None:\n",
    "        self.antecedent = \"Name a \"\n",
    "        self.NOUN = FUCK\n",
    "        self.options ={ \n",
    "            'First & Last Letter Mode' : [\" That Starts With The Letter\", \" That Ends With The Letter\"],\n",
    "            'Any Noun Word' : []\n",
    "        }\n",
    "    def get_question(self):\n",
    "        return self.antecedent + self.NOUN + self.options['First & Last Letter Mode'][0] + \" \" + self.options['First & Last Letter Mode'][1]\n",
    "q = Question()\n",
    "print(q.get_question())\n",
    "\n"
   ]
  },
  {
   "cell_type": "code",
   "execution_count": null,
   "metadata": {},
   "outputs": [],
   "source": []
  }
 ],
 "metadata": {
  "kernelspec": {
   "display_name": ".virtualenvs",
   "language": "python",
   "name": "python3"
  },
  "language_info": {
   "codemirror_mode": {
    "name": "ipython",
    "version": 3
   },
   "file_extension": ".py",
   "mimetype": "text/x-python",
   "name": "python",
   "nbconvert_exporter": "python",
   "pygments_lexer": "ipython3",
   "version": "3.10.10"
  },
  "orig_nbformat": 4,
  "vscode": {
   "interpreter": {
    "hash": "49923a79da37503b7585011c1d4fbf98104ab872348be5d7a60d9e572fa91926"
   }
  }
 },
 "nbformat": 4,
 "nbformat_minor": 2
}
