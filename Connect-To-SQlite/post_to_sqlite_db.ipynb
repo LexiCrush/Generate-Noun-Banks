{
 "cells": [
  {
   "attachments": {},
   "cell_type": "markdown",
   "metadata": {},
   "source": [
    "# Confirm that noun banks are accessible by ipykernal.\n",
    "#### - Shared Pandas dfs are transported as pickle files.\n",
    "#### - Read using the %store -r '...' 'magic method'"
   ]
  },
  {
   "cell_type": "code",
   "execution_count": 3,
   "metadata": {},
   "outputs": [],
   "source": [
    "# get noun banks\n",
    "%store -r all_animals\n",
    "%store -r usa_states\n",
    "%store -r all_countries\n",
    "%store -r all_elements\n",
    "%store -r greek_gods\n",
    "%store -r roman_gods\n",
    "%store -r cosmetic_items\n",
    "%store -r office_supplies\n",
    "\n",
    "# prevent PyLance from claiming that the variables are not defined (Only necessary for Jupyter Notebooks running in VS Code)\n",
    "all_animals = all_animals\n",
    "usa_states = usa_states\n",
    "all_countries = all_countries\n",
    "all_elements = all_elements\n",
    "greek_gods = greek_gods\n",
    "roman_gods = roman_gods\n",
    "cosmetic_items = cosmetic_items\n",
    "office_supplies = office_supplies\n"
   ]
  },
  {
   "attachments": {},
   "cell_type": "markdown",
   "metadata": {},
   "source": [
    "\n",
    "# Creating an engine will store a file \"NounBankSQlite.db\" at SQlite-Databases/NounBankSQlite.db\n",
    "#### "
   ]
  },
  {
   "cell_type": "code",
   "execution_count": 4,
   "metadata": {},
   "outputs": [],
   "source": [
    "import pandas as pd\n",
    "from pandas.io import sql\n",
    "from sqlalchemy import create_engine\n",
    "\n",
    "DATABASE_LOCATION = \"sqlite:///NounBankSQlite.db\"\n",
    "\n",
    "def post_to_sqlite():\n",
    "    # establish database connection\n",
    "    engine = create_engine(DATABASE_LOCATION)\n",
    "    # populate database with noun banks\n",
    "    all_animals.to_sql('all_animals', engine, if_exists='replace')\n",
    "    usa_states.to_sql('usa_states', engine, if_exists='replace')\n",
    "    all_countries.to_sql('all_countries', engine, if_exists='replace')\n",
    "    all_elements.to_sql('all_elements', engine, if_exists='replace')\n",
    "    greek_gods.to_sql('greek_gods', engine, if_exists='replace')\n",
    "    roman_gods.to_sql('roman_gods', engine, if_exists='replace')\n",
    "    cosmetic_items.to_sql('cosmetic_items', engine, if_exists='replace')\n",
    "    office_supplies.to_sql('office_supplies', engine, if_exists='replace')\n",
    "\n",
    "post_to_sqlite()\n",
    "\n"
   ]
  },
  {
   "attachments": {},
   "cell_type": "markdown",
   "metadata": {},
   "source": [
    "## Confirm that future updates to the Noun Bank do not raise any assertion errors"
   ]
  },
  {
   "cell_type": "code",
   "execution_count": 5,
   "metadata": {},
   "outputs": [
    {
     "name": "stderr",
     "output_type": "stream",
     "text": [
      "test_connecting_to_sqlite (__main__.TestPostToSqlite) ... ok\n",
      "test_element_with_largest_atomic_number (__main__.TestPostToSqlite) ... ok\n",
      "test_longest_len_greek_god (__main__.TestPostToSqlite) ... ok\n",
      "test_states_start_with_new (__main__.TestPostToSqlite) ... ok\n",
      "\n",
      "----------------------------------------------------------------------\n",
      "Ran 4 tests in 0.019s\n",
      "\n",
      "OK\n"
     ]
    }
   ],
   "source": [
    "import unittest as ut\n",
    "\n",
    "class TestPostToSqlite(ut.TestCase):\n",
    "    def __init__(self, *args, **kwargs):\n",
    "        self.engine = create_engine(DATABASE_LOCATION) # create an engine to connect to the database for testing\n",
    "        super(TestPostToSqlite, self).__init__(*args, **kwargs) # call the parent class's constructor\n",
    "\n",
    "    def test_connecting_to_sqlite(self):\n",
    "        self.assertEqual(self.engine.name, 'sqlite') # check that the engine is connected to a sqlite database\n",
    "\n",
    "    def test_states_start_with_new(self):\n",
    "        df = pd.read_sql('SELECT state FROM usa_states WHERE state LIKE \"New%\"', self.engine) # select all states that start with \"New\"\n",
    "        self.assertEqual(df.values.tolist(), [['New Hampshire'], ['New Jersey'], ['New Mexico'], ['New York']]) # check that the correct states are returned\n",
    "        \n",
    "    def test_longest_len_greek_god(self):\n",
    "        df = pd.read_sql('SELECT MAX(LENGTH(greek_god)), greek_god FROM greek_gods', self.engine)\n",
    "        self.assertEqual(df['greek_god'][0], 'hephaestus' ) # check that the greek god with the longest name is Hephaestus\n",
    "        self.assertEqual(df['MAX(LENGTH(greek_god))'][0], 10) # check that the length of the longest name is 11\n",
    "\n",
    "    def test_element_with_largest_atomic_number(self):\n",
    "        df = pd.read_sql('SELECT Element, AtomicNumber FROM all_elements WHERE AtomicNumber = (SELECT MAX(AtomicNumber) FROM all_elements)', self.engine)\n",
    "        self.assertEqual(df['Element'][0], 'Oganesson') # check that the element with the largest atomic number is Oganesson\n",
    "        self.assertEqual(df['AtomicNumber'][0], 118) # check that the atomic number of Oganesson is 118\n",
    "\n",
    "\n",
    "#run the tests\n",
    "\n",
    "if __name__ == '__main__':\n",
    "    ut.main(argv=[''], verbosity=3, exit=False)"
   ]
  }
 ],
 "metadata": {
  "kernelspec": {
   "display_name": ".virtualenvs",
   "language": "python",
   "name": "python3"
  },
  "language_info": {
   "codemirror_mode": {
    "name": "ipython",
    "version": 3
   },
   "file_extension": ".py",
   "mimetype": "text/x-python",
   "name": "python",
   "nbconvert_exporter": "python",
   "pygments_lexer": "ipython3",
   "version": "3.10.10"
  },
  "orig_nbformat": 4,
  "vscode": {
   "interpreter": {
    "hash": "49923a79da37503b7585011c1d4fbf98104ab872348be5d7a60d9e572fa91926"
   }
  }
 },
 "nbformat": 4,
 "nbformat_minor": 2
}
