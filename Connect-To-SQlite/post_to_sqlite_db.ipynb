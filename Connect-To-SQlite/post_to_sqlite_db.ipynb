{
 "cells": [
  {
   "attachments": {},
   "cell_type": "markdown",
   "metadata": {},
   "source": [
    "# Confirm that noun banks are accessible by ipykernal.\n",
    "## Shared Pandas dfs are transported as pickle files.\n",
    "## Read using the %store -r '...' 'magic method'"
   ]
  },
  {
   "cell_type": "code",
   "execution_count": 2,
   "metadata": {},
   "outputs": [],
   "source": [
    "# get noun banks\n",
    "%store -r all_usa_states\n",
    "%store -r all_world_countries\n",
    "%store -r all_elements\n",
    "%store -r many_animals\n",
    "%store -r many_greek_gods\n",
    "%store -r many_roman_gods\n",
    "%store -r many_cosmetic_items\n",
    "%store -r many_office_supplies\n"
   ]
  },
  {
   "attachments": {},
   "cell_type": "markdown",
   "metadata": {},
   "source": [
    "## Delete old database"
   ]
  },
  {
   "cell_type": "code",
   "execution_count": 3,
   "metadata": {},
   "outputs": [],
   "source": [
    "import os\n",
    "#delete old database\n",
    "os.remove('NounBankSQlite.db')\n"
   ]
  },
  {
   "attachments": {},
   "cell_type": "markdown",
   "metadata": {},
   "source": [
    "\n",
    "# Creating an engine will store a file \"NounBankSQlite.db\" at SQlite-Databases/NounBankSQlite.db\n",
    "#### "
   ]
  },
  {
   "cell_type": "code",
   "execution_count": 4,
   "metadata": {},
   "outputs": [],
   "source": [
    "import pandas as pd\n",
    "from pandas.io import sql\n",
    "from sqlalchemy import create_engine\n",
    "\n",
    "DATABASE_LOCATION = \"sqlite:///NounBankSQlite.db\"\n",
    "\n",
    "    \n",
    "def post_to_sqlite():\n",
    "    # establish database connection\n",
    "    engine = create_engine(DATABASE_LOCATION)\n",
    "    # populate database with noun banks\n",
    "    all_usa_states.to_sql('all_usa_states', engine, if_exists='replace')\n",
    "    all_world_countries.to_sql('all_world_countries', engine, if_exists='replace')\n",
    "    all_elements.to_sql('all_elements', engine, if_exists='replace')\n",
    "    many_animals.to_sql('many_animals', engine, if_exists='replace')\n",
    "    many_greek_gods.to_sql('many_greek_gods', engine, if_exists='replace')\n",
    "    many_roman_gods.to_sql('many_roman_gods', engine, if_exists='replace')\n",
    "    many_cosmetic_items.to_sql('many_cosmetic_items', engine, if_exists='replace')\n",
    "    many_office_supplies.to_sql('many_office_supplies', engine, if_exists='replace')\n",
    "    # close database connection\n",
    "    \n",
    "\n",
    "post_to_sqlite()"
   ]
  },
  {
   "attachments": {},
   "cell_type": "markdown",
   "metadata": {},
   "source": [
    "## Confirm that future updates to the Noun Bank do not raise any assertion errors"
   ]
  },
  {
   "cell_type": "code",
   "execution_count": 5,
   "metadata": {},
   "outputs": [
    {
     "name": "stderr",
     "output_type": "stream",
     "text": [
      "test_connecting_to_sqlite (__main__.TestPostToSqlite) ... ok\n",
      "test_element_with_largest_atomic_number (__main__.TestPostToSqlite) ... ok\n",
      "test_longest_len_greek_god (__main__.TestPostToSqlite) ... ok\n",
      "test_states_start_with_new (__main__.TestPostToSqlite) ... ok\n",
      "\n",
      "----------------------------------------------------------------------\n",
      "Ran 4 tests in 0.021s\n",
      "\n",
      "OK\n"
     ]
    }
   ],
   "source": [
    "import unittest as ut\n",
    "\n",
    "class TestPostToSqlite(ut.TestCase):\n",
    "    def __init__(self, *args, **kwargs):\n",
    "        self.engine = create_engine(DATABASE_LOCATION) # create an engine to connect to the database for testing\n",
    "        super(TestPostToSqlite, self).__init__(*args, **kwargs) # call the parent class's constructor\n",
    "\n",
    "    def test_connecting_to_sqlite(self):\n",
    "        self.assertEqual(self.engine.name, 'sqlite') # check that the engine is connected to a sqlite database\n",
    "        \n",
    "    def test_states_start_with_new(self):\n",
    "        df = pd.read_sql('SELECT all_usa_states FROM all_usa_states WHERE all_usa_states LIKE \"New%\"', self.engine) # select all states that start with \"New\"\n",
    "        self.assertEqual(df.values.tolist(), [['New Hampshire'], ['New Jersey'], ['New Mexico'], ['New York']]) # check that the correct states are returned\n",
    "        \n",
    "    def test_longest_len_greek_god(self):\n",
    "        df = pd.read_sql('SELECT MAX(LENGTH(many_greek_gods)), many_greek_gods FROM many_greek_gods', self.engine)\n",
    "        self.assertEqual(df['many_greek_gods'][0], 'hephaestus' ) # check that the greek god with the longest name is Hephaestus\n",
    "        self.assertEqual(df['MAX(LENGTH(many_greek_gods))'][0], 10) # check that the length of the longest name is 11\n",
    "\n",
    "    def test_element_with_largest_atomic_number(self):\n",
    "        df = pd.read_sql('SELECT all_elements, AtomicNumber FROM all_elements WHERE AtomicNumber = (SELECT MAX(AtomicNumber) FROM all_elements)', self.engine)\n",
    "        self.assertEqual(df['all_elements'][0], 'Oganesson') # check that the element with the largest atomic number is Oganesson\n",
    "        self.assertEqual(df['AtomicNumber'][0], 118) # check that the atomic number of Oganesson is 118\n",
    "\n",
    "\n",
    "#run the tests\n",
    "\n",
    "if __name__ == '__main__':\n",
    "    ut.main(argv=[''], verbosity=4, exit=False)"
   ]
  },
  {
   "cell_type": "code",
   "execution_count": 18,
   "metadata": {},
   "outputs": [],
   "source": [
    "import numpy as np\n",
    "\n",
    "\n",
    "class Question:\n",
    "    def __init__(self) -> None:\n",
    "        self.engine = create_engine(DATABASE_LOCATION)\n",
    "        self.available_tables = pd.read_sql('SELECT name FROM sqlite_master WHERE type=\"table\"', self.engine)\n",
    "        print(self.available_tables)\n",
    "        self.chosen_table = np.random.choice(self.available_tables['name'])\n",
    "\n",
    "        if self.chosen_table == 'all_usa_states':\n",
    "            self.NOUN = \"A State in the USA\"\n",
    "        elif self.chosen_table == 'all_world_countries':\n",
    "            self.NOUN = \"A Country in the World\"\n",
    "        elif self.chosen_table == 'all_elements':\n",
    "            self.NOUN = \"An Element\"\n",
    "        elif self.chosen_table == 'many_animals':\n",
    "            self.NOUN = \"An Animal\"\n",
    "        elif self.chosen_table == 'many_greek_gods':\n",
    "            self.NOUN = \"A Greek God\"\n",
    "        elif self.chosen_table == 'many_roman_gods':\n",
    "            self.NOUN = \"A Roman God\"\n",
    "        elif self.chosen_table == 'many_cosmetic_items':\n",
    "            self.NOUN = \"A Cosmetic Item\"\n",
    "        elif self.chosen_table == 'many_office_supplies':\n",
    "            self.NOUN = \"An Office Supply\"\n",
    "\n",
    "        self.question_filters = [\"Begins With The Letter\", \"Ends With The Letter\"]\n",
    "\n",
    "    def get_question(self):\n",
    "        # print(self.options)\n",
    "        self.chosen_filter = np.random.choice(self.question_filters)\n",
    "        # make a list of all the first letters of the nouns in the chosen table\n",
    "        if self.chosen_filter == \"Begins With The Letter\":\n",
    "            # make a set called first letters that contains all the first letters of the nouns in the chosen table\n",
    "            first_letters = pd.read_sql('SELECT SUBSTR(' + self.chosen_table + ', 1, 1) FROM ' + self.chosen_table, self.engine)\n",
    "            # make one dimensional array of first letters\n",
    "            first_letters = first_letters.values.tolist()\n",
    "            # make first letters into a list rather than a list of lists\n",
    "            first_letters = [item for sublist in first_letters for item in sublist]\n",
    "            self.random_letter = np.random.choice(first_letters)\n",
    "            # print(first_letters)\n",
    "            \n",
    "        if self.chosen_filter == \"Ends With The Letter\":\n",
    "            # make a set called last letters that contains all the last letters of the nouns in the chosen table\n",
    "            last_letters = pd.read_sql('SELECT SUBSTR(' + self.chosen_table + ', -1, 1) FROM ' + self.chosen_table, self.engine)\n",
    "            # make one dimensional array of first letters\n",
    "            last_letters = last_letters.values.tolist()\n",
    "            # make first letters into a list rather than a list of lists\n",
    "            last_letters = [item for sublist in last_letters for item in sublist]\n",
    "            self.random_letter = np.random.choice(last_letters)\n",
    "            # print(last_letters)\n",
    "        \n",
    "        \n",
    "        return \"Name \" + self.NOUN + \" That \" + self.chosen_filter + \" \" + self.random_letter.capitalize() + \".\"\n",
    "\n",
    "    def check_answer(self, potential_answer):\n",
    "        if self.chosen_filter == \"Begins With The Letter\":\n",
    "            if potential_answer[0].lower() == self.random_letter.lower():\n",
    "                # check if potential answer is in the chosen table in the database\n",
    "                all_nouns_in_table = pd.read_sql('SELECT ' + self.chosen_table + ' FROM ' + self.chosen_table, self.engine)\n",
    "                # print(all_nouns_in_table.values.tolist())\n",
    "                all_nouns_in_table = [item for sublist in all_nouns_in_table.values.tolist() for item in sublist]\n",
    "                # make all nouns in table lowercase\n",
    "                all_nouns_in_table = [x.lower() for x in all_nouns_in_table]\n",
    "                # check if potential answer is in the list of all nouns in the table\n",
    "                if potential_answer.lower() in all_nouns_in_table:\n",
    "                    print(\"Correct!\")\n",
    "                    print(potential_answer.lower().capitalize() + \" is a \" + self.NOUN + \" that begins with the letter \" + self.random_letter + \".\")\n",
    "                else:\n",
    "                    print(\"That is not a \" + self.NOUN + \"!\")\n",
    "            else:\n",
    "                print(\"That does not begin with the letter \" + self.random_letter + \"!\")\n",
    "                \n",
    "        if self.chosen_filter == \"Ends With The Letter\":\n",
    "            if potential_answer[-1].lower() == self.random_letter.lower():\n",
    "                # check if potential answer is in the chosen table in the database\n",
    "                all_nouns_in_table = pd.read_sql('SELECT ' + self.chosen_table + ' FROM ' + self.chosen_table, self.engine)\n",
    "                # print(all_nouns_in_table.values.tolist())\n",
    "                all_nouns_in_table = [item for sublist in all_nouns_in_table.values.tolist() for item in sublist]\n",
    "                # make all nouns in table lowercase\n",
    "                all_nouns_in_table = [x.lower() for x in all_nouns_in_table]\n",
    "                # check if potential answer is in the list of all nouns in the table\n",
    "                if potential_answer.lower() in all_nouns_in_table:\n",
    "                    print(\"CORRECT!\")\n",
    "                    print(potential_answer.lower().capitalize() + \" is a \" + self.NOUN + \" that ends with the letter \" + self.random_letter + \".\")\n",
    "                else:\n",
    "                    print(\"That is not a \" + self.NOUN + \"!\")\n",
    "            else:\n",
    "                print(\"That does not end with the letter \" + self.random_letter + \"!\")"
   ]
  },
  {
   "cell_type": "code",
   "execution_count": 25,
   "metadata": {},
   "outputs": [
    {
     "name": "stdout",
     "output_type": "stream",
     "text": [
      "                   name\n",
      "0        all_usa_states\n",
      "1   all_world_countries\n",
      "2          all_elements\n",
      "3          many_animals\n",
      "4       many_greek_gods\n",
      "5       many_roman_gods\n",
      "6   many_cosmetic_items\n",
      "7  many_office_supplies\n",
      "Name A Greek God That Begins With The Letter A.\n"
     ]
    }
   ],
   "source": [
    "q = Question()\n",
    "print(q.get_question())"
   ]
  },
  {
   "cell_type": "code",
   "execution_count": 28,
   "metadata": {},
   "outputs": [
    {
     "name": "stdout",
     "output_type": "stream",
     "text": [
      "That is not a A Greek God!\n"
     ]
    }
   ],
   "source": [
    "q.check_answer(\"Aphrodite\")\n"
   ]
  },
  {
   "cell_type": "code",
   "execution_count": null,
   "metadata": {},
   "outputs": [],
   "source": []
  }
 ],
 "metadata": {
  "kernelspec": {
   "display_name": ".virtualenvs",
   "language": "python",
   "name": "python3"
  },
  "language_info": {
   "codemirror_mode": {
    "name": "ipython",
    "version": 3
   },
   "file_extension": ".py",
   "mimetype": "text/x-python",
   "name": "python",
   "nbconvert_exporter": "python",
   "pygments_lexer": "ipython3",
   "version": "3.10.10"
  },
  "orig_nbformat": 4,
  "vscode": {
   "interpreter": {
    "hash": "49923a79da37503b7585011c1d4fbf98104ab872348be5d7a60d9e572fa91926"
   }
  }
 },
 "nbformat": 4,
 "nbformat_minor": 2
}
